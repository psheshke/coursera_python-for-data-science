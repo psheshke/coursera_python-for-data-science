{
 "cells": [
  {
   "cell_type": "code",
   "execution_count": 1,
   "metadata": {},
   "outputs": [],
   "source": [
    "import numpy as np"
   ]
  },
  {
   "cell_type": "code",
   "execution_count": 3,
   "metadata": {},
   "outputs": [
    {
     "data": {
      "text/plain": [
       "array([[1., 0., 0.],\n",
       "       [0., 1., 0.],\n",
       "       [0., 0., 1.]])"
      ]
     },
     "execution_count": 3,
     "metadata": {},
     "output_type": "execute_result"
    }
   ],
   "source": [
    "np.eye(3)"
   ]
  },
  {
   "cell_type": "code",
   "execution_count": 10,
   "metadata": {
    "scrolled": true
   },
   "outputs": [
    {
     "data": {
      "text/plain": [
       "array([2, 1, 0])"
      ]
     },
     "execution_count": 10,
     "metadata": {},
     "output_type": "execute_result"
    }
   ],
   "source": [
    "np.random.randint(3, size = 3)"
   ]
  },
  {
   "cell_type": "code",
   "execution_count": 18,
   "metadata": {},
   "outputs": [
    {
     "data": {
      "text/plain": [
       "array([[47, 37, 50, 13],\n",
       "       [32, 45, 58, 13],\n",
       "       [41, 25, 29,  4]])"
      ]
     },
     "execution_count": 18,
     "metadata": {},
     "output_type": "execute_result"
    }
   ],
   "source": [
    "A = np.array([[0, 9, 19, 13],\n",
    "              [1, 20, 5, 13],\n",
    "             [12, 11, 3, 4]])\n",
    "B = np.array([[2, 0, 0, 0],\n",
    "             [1, 2, 2, 0],\n",
    "             [2, 1, 1, 0],\n",
    "             [0, 0, 1, 1]])\n",
    "\n",
    "A.dot(B)"
   ]
  },
  {
   "cell_type": "code",
   "execution_count": 22,
   "metadata": {},
   "outputs": [
    {
     "data": {
      "text/plain": [
       "array([[-1, 33,  4,  1],\n",
       "       [ 0,  1,  1,  0]])"
      ]
     },
     "execution_count": 22,
     "metadata": {},
     "output_type": "execute_result"
    }
   ],
   "source": [
    "b = np.array([[-1, 33, 4, 1], [0, 1, 1, 0]])\n",
    "b"
   ]
  },
  {
   "cell_type": "code",
   "execution_count": 23,
   "metadata": {},
   "outputs": [
    {
     "data": {
      "text/plain": [
       "4.875"
      ]
     },
     "execution_count": 23,
     "metadata": {},
     "output_type": "execute_result"
    }
   ],
   "source": [
    "b.mean()"
   ]
  },
  {
   "cell_type": "code",
   "execution_count": 44,
   "metadata": {},
   "outputs": [
    {
     "data": {
      "text/plain": [
       "array([[ 1, -1, -1,  0],\n",
       "       [-1,  2, -1, -1],\n",
       "       [-1, -1,  2, -1],\n",
       "       [ 0, -1, -1,  1]])"
      ]
     },
     "execution_count": 44,
     "metadata": {},
     "output_type": "execute_result"
    }
   ],
   "source": [
    "F = np.array([[1, -1, -1, 0],\n",
    "             [-1, 2, -1, -1],\n",
    "             [-1, -1, 2, -1],\n",
    "             [0, -1, -1, 1]])\n",
    "\n",
    "F"
   ]
  },
  {
   "cell_type": "code",
   "execution_count": 47,
   "metadata": {},
   "outputs": [
    {
     "data": {
      "text/plain": [
       "array([-1.,  1.,  3.,  3.])"
      ]
     },
     "execution_count": 47,
     "metadata": {},
     "output_type": "execute_result"
    }
   ],
   "source": [
    "np.linalg.eig(F)[0]"
   ]
  },
  {
   "cell_type": "code",
   "execution_count": 39,
   "metadata": {},
   "outputs": [
    {
     "data": {
      "text/plain": [
       "array([-1.,  9.])"
      ]
     },
     "execution_count": 39,
     "metadata": {},
     "output_type": "execute_result"
    }
   ],
   "source": [
    "np.linalg.eig(np.array([[0, 3],[3, 8]]))[0]"
   ]
  },
  {
   "cell_type": "code",
   "execution_count": 24,
   "metadata": {},
   "outputs": [
    {
     "data": {
      "text/plain": [
       "array([[2, 4, 0, 4, 1],\n",
       "       [2, 4, 1, 1, 0],\n",
       "       [1, 1, 1, 2, 2],\n",
       "       [0, 1, 3, 2, 4],\n",
       "       [2, 2, 2, 0, 2]])"
      ]
     },
     "execution_count": 24,
     "metadata": {},
     "output_type": "execute_result"
    }
   ],
   "source": [
    "K = np.array([[2, 4, 0, 4, 1],\n",
    "             [2, 4, 1, 1, 0],\n",
    "             [1, 1, 1, 2, 2],\n",
    "             [0, 1, 3, 2, 4],\n",
    "             [2, 2, 2, 0, 2]])\n",
    "K"
   ]
  },
  {
   "cell_type": "code",
   "execution_count": 31,
   "metadata": {},
   "outputs": [
    {
     "data": {
      "text/plain": [
       "2.700000000000001"
      ]
     },
     "execution_count": 31,
     "metadata": {},
     "output_type": "execute_result"
    }
   ],
   "source": [
    "Ko = np.linalg.inv(K)\n",
    "Ko.diagonal().sum()"
   ]
  },
  {
   "cell_type": "code",
   "execution_count": 54,
   "metadata": {},
   "outputs": [
    {
     "data": {
      "text/plain": [
       "[array([6, 0, 3]), array([ 0, -1,  2])]"
      ]
     },
     "execution_count": 54,
     "metadata": {},
     "output_type": "execute_result"
    }
   ],
   "source": [
    "from numpy.linalg import matrix_rank\n",
    "\n",
    "def LI_vecs(dim,M):\n",
    "    LI=[M[0]]\n",
    "    for i in range(dim):\n",
    "        tmp=[]\n",
    "        for r in LI:\n",
    "            tmp.append(r)\n",
    "        tmp.append(M[i])                #set tmp=LI+[M[i]]\n",
    "        if matrix_rank(tmp)>len(LI):    #test if M[i] is linearly independent from all (row) vectors in LI\n",
    "            LI.append(M[i])             #note that matrix_rank does not need to take in a square matrix\n",
    "    return LI                           #return set of linearly independent (row) vectors\n",
    "\n",
    "#Example\n",
    "mat=np.array([[6, 0, 3],\n",
    "             [0, -1, 2],\n",
    "             [12, 3, 0]])\n",
    "LI_vecs(3,mat)"
   ]
  },
  {
   "cell_type": "code",
   "execution_count": 55,
   "metadata": {},
   "outputs": [
    {
     "data": {
      "text/plain": [
       "array([[ 6,  0,  3],\n",
       "       [ 0, -1,  2],\n",
       "       [12,  3,  0]])"
      ]
     },
     "execution_count": 55,
     "metadata": {},
     "output_type": "execute_result"
    }
   ],
   "source": [
    "mat"
   ]
  },
  {
   "cell_type": "code",
   "execution_count": null,
   "metadata": {},
   "outputs": [],
   "source": []
  }
 ],
 "metadata": {
  "kernelspec": {
   "display_name": "Python 3",
   "language": "python",
   "name": "python3"
  },
  "language_info": {
   "codemirror_mode": {
    "name": "ipython",
    "version": 3
   },
   "file_extension": ".py",
   "mimetype": "text/x-python",
   "name": "python",
   "nbconvert_exporter": "python",
   "pygments_lexer": "ipython3",
   "version": "3.6.4"
  }
 },
 "nbformat": 4,
 "nbformat_minor": 2
}
